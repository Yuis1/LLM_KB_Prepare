{
  "cells": [
    {
      "cell_type": "markdown",
      "metadata": {},
      "source": [
        "# Marker PDF GUI on Google Colab\n",
        "\n",
        "This notebook sets up and runs the Marker PDF GUI server on Google Colab, allowing you to process PDF documents with AI-powered extraction.\n",
        "\n",
        "## Setup Environment"
      ]
    },
    {
      "cell_type": "code",
      "execution_count": null,
      "metadata": {},
      "outputs": [],
      "source": [
        "# Stop and remove the Docker container\n",
        "!docker stop marker_container\n",
        "!docker rm marker_container\n",
        "\n",
        "# Stop the ngrok tunnel\n",
        "from pyngrok import ngrok\n",
        "ngrok.kill()\n",
        "\n",
        "print(\"Marker PDF GUI server has been stopped.\")"
      ]
    }
  ],
  "metadata": {
    "colab": {
      "gpuType": "T4",
      "provenance": []
    },
    "kernelspec": {
      "display_name": "Python 3",
      "language": "python",
      "name": "python3"
    },
    "language_info": {
      "codemirror_mode": {
        "name": "ipython",
        "version": 3
      },
      "file_extension": ".py",
      "mimetype": "text/x-python",
      "name": "python",
      "nbconvert_exporter": "python",
      "pygments_lexer": "ipython3",
      "version": "3.10.0"
    }
  },
  "nbformat": 4,
  "nbformat_minor": 0
}
  "cells": [
    {
      "cell_type": "code",
      "execution_count": null,
      "metadata": {},
      "outputs": [],
      "source": [
        "# Upload files to the data directory\n",
        "from google.colab import files\n",
        "\n",
        "print(\"Upload your PDF files to be processed by Marker PDF GUI\")\n",
        "uploaded = files.upload()\n",
        "\n",
        "# Save uploaded files to the data directory\n",
        "for filename, content in uploaded.items():\n",
        "    with open(f'marker/data/{filename}', 'wb') as f:\n",
        "        f.write(content)\n",
        "    print(f\"Saved {filename} to marker/data/ directory\")\n",
        "\n",
        "print(\"\\nYou can now process these files using the Marker PDF GUI interface at the URL above.\")"
      ]
    },
    {
      "cell_type": "markdown",
      "metadata": {},
      "source": [
        "## Stopping the Server\n",
        "\n",
        "When you're done using the Marker PDF GUI server, run the cell below to stop the container."
      ]
    },
    {
      "cell_type": "code",
      "execution_count": null,
      "metadata": {},
      "outputs": [],
      "source": [
        "# Stop and remove the Docker container\n",
        "!docker stop marker_container\n",
        "!docker rm marker_container\n",
        "\n",
        "# Stop the ngrok tunnel\n",
        "from pyngrok import ngrok\n",
        "ngrok.kill()\n",
        "\n",
        "print(\"Marker PDF GUI server has been stopped.\")"
      ]
    }
  ],
  "metadata": {
    "colab": {
      "gpuType": "T4",
      "provenance": []
    },
    "kernelspec": {
      "display_name": "Python 3",
      "language": "python",
      "name": "python3"
    },
    "language_info": {
      "codemirror_mode": {
        "name": "ipython",
        "version": 3
      },
      "file_extension": ".py",
      "mimetype": "text/x-python",
      "name": "python",
      "nbconvert_exporter": "python",
      "pygments_lexer": "ipython3",
      "version": "3.10.0"
    }
  },
  "nbformat": 4,
  "nbformat_minor": 0
}
      "outputs": [],
      "source": [
        "# Install required packages\n",
        "!pip install pyngrok\n",
        "!apt-get update\n",
        "!apt-get install -y git"
      ]
    },
    {
      "cell_type": "markdown",
      "metadata": {},
      "source": [
        "## Clone the Marker Repository\n",
        "\n",
        "First, we'll clone the Marker repository from GitHub."
      ]
    },
    {
      "cell_type": "code",
      "execution_count": null,
      "metadata": {},
      "outputs": [],
      "source": [
        "# Stop and remove the Docker container\n",
        "!docker stop marker_container\n",
        "!docker rm marker_container\n",
        "\n",
        "# Stop the ngrok tunnel\n",
        "from pyngrok import ngrok\n",
        "ngrok.kill()\n",
        "\n",
        "print(\"Marker PDF GUI server has been stopped.\")"
      ]
    }
  ],
  "metadata": {
    "colab": {
      "gpuType": "T4",
      "provenance": []
    },
    "kernelspec": {
      "display_name": "Python 3",
      "language": "python",
      "name": "python3"
    },
    "language_info": {
      "codemirror_mode": {
        "name": "ipython",
        "version": 3
      },
      "file_extension": ".py",
      "mimetype": "text/x-python",
      "name": "python",
      "nbconvert_exporter": "python",
      "pygments_lexer": "ipython3",
      "version": "3.10.0"
    }
  },
  "nbformat": 4,
  "nbformat_minor": 0
}
  "cells": [
    {
      "cell_type": "code",
      "execution_count": null,
      "metadata": {},
      "outputs": [],
      "source": [
        "# Upload files to the data directory\n",
        "from google.colab import files\n",
        "\n",
        "print(\"Upload your PDF files to be processed by Marker PDF GUI\")\n",
        "uploaded = files.upload()\n",
        "\n",
        "# Save uploaded files to the data directory\n",
        "for filename, content in uploaded.items():\n",
        "    with open(f'marker/data/{filename}', 'wb') as f:\n",
        "        f.write(content)\n",
        "    print(f\"Saved {filename} to marker/data/ directory\")\n",
        "\n",
        "print(\"\\nYou can now process these files using the Marker PDF GUI interface at the URL above.\")"
      ]
    },
    {
      "cell_type": "markdown",
      "metadata": {},
      "source": [
        "## Stopping the Server\n",
        "\n",
        "When you're done using the Marker PDF GUI server, run the cell below to stop the container."
      ]
    },
    {
      "cell_type": "code",
      "execution_count": null,
      "metadata": {},
      "outputs": [],
      "source": [
        "# Stop and remove the Docker container\n",
        "!docker stop marker_container\n",
        "!docker rm marker_container\n",
        "\n",
        "# Stop the ngrok tunnel\n",
        "from pyngrok import ngrok\n",
        "ngrok.kill()\n",
        "\n",
        "print(\"Marker PDF GUI server has been stopped.\")"
      ]
    }
  ],
  "metadata": {
    "colab": {
      "gpuType": "T4",
      "provenance": []
    },
    "kernelspec": {
      "display_name": "Python 3",
      "language": "python",
      "name": "python3"
    },
    "language_info": {
      "codemirror_mode": {
        "name": "ipython",
        "version": 3
      },
      "file_extension": ".py",
      "mimetype": "text/x-python",
      "name": "python",
      "nbconvert_exporter": "python",
      "pygments_lexer": "ipython3",
      "version": "3.10.0"
    }
  },
  "nbformat": 4,
  "nbformat_minor": 0
}
      "outputs": [],
      "source": [
        "# Clone the repository\n",
        "!git clone https://github.com/VikParuchuri/marker.git\n",
        "!mkdir -p marker/data  # Create data directory for document storage"
      ]
    },
    {
      "cell_type": "markdown",
      "metadata": {},
      "source": [
        "## Create Dockerfile\n",
        "\n",
        "We'll create the Dockerfile needed to build the Marker PDF GUI container."
      ]
    },
    {
      "cell_type": "code",
      "execution_count": null,
      "metadata": {},
      "outputs": [],
      "source": [
        "# Stop and remove the Docker container\n",
        "!docker stop marker_container\n",
        "!docker rm marker_container\n",
        "\n",
        "# Stop the ngrok tunnel\n",
        "from pyngrok import ngrok\n",
        "ngrok.kill()\n",
        "\n",
        "print(\"Marker PDF GUI server has been stopped.\")"
      ]
    }
  ],
  "metadata": {
    "colab": {
      "gpuType": "T4",
      "provenance": []
    },
    "kernelspec": {
      "display_name": "Python 3",
      "language": "python",
      "name": "python3"
    },
    "language_info": {
      "codemirror_mode": {
        "name": "ipython",
        "version": 3
      },
      "file_extension": ".py",
      "mimetype": "text/x-python",
      "name": "python",
      "nbconvert_exporter": "python",
      "pygments_lexer": "ipython3",
      "version": "3.10.0"
    }
  },
  "nbformat": 4,
  "nbformat_minor": 0
}
  "cells": [
    {
      "cell_type": "code",
      "execution_count": null,
      "metadata": {},
      "outputs": [],
      "source": [
        "# Upload files to the data directory\n",
        "from google.colab import files\n",
        "\n",
        "print(\"Upload your PDF files to be processed by Marker PDF GUI\")\n",
        "uploaded = files.upload()\n",
        "\n",
        "# Save uploaded files to the data directory\n",
        "for filename, content in uploaded.items():\n",
        "    with open(f'marker/data/{filename}', 'wb') as f:\n",
        "        f.write(content)\n",
        "    print(f\"Saved {filename} to marker/data/ directory\")\n",
        "\n",
        "print(\"\\nYou can now process these files using the Marker PDF GUI interface at the URL above.\")"
      ]
    },
    {
      "cell_type": "markdown",
      "metadata": {},
      "source": [
        "## Stopping the Server\n",
        "\n",
        "When you're done using the Marker PDF GUI server, run the cell below to stop the container."
      ]
    },
    {
      "cell_type": "code",
      "execution_count": null,
      "metadata": {},
      "outputs": [],
      "source": [
        "# Stop and remove the Docker container\n",
        "!docker stop marker_container\n",
        "!docker rm marker_container\n",
        "\n",
        "# Stop the ngrok tunnel\n",
        "from pyngrok import ngrok\n",
        "ngrok.kill()\n",
        "\n",
        "print(\"Marker PDF GUI server has been stopped.\")"
      ]
    }
  ],
  "metadata": {
    "colab": {
      "gpuType": "T4",
      "provenance": []
    },
    "kernelspec": {
      "display_name": "Python 3",
      "language": "python",
      "name": "python3"
    },
    "language_info": {
      "codemirror_mode": {
        "name": "ipython",
        "version": 3
      },
      "file_extension": ".py",
      "mimetype": "text/x-python",
      "name": "python",
      "nbconvert_exporter": "python",
      "pygments_lexer": "ipython3",
      "version": "3.10.0"
    }
  },
  "nbformat": 4,
  "nbformat_minor": 0
}
      "outputs": [],
      "source": [
        "%%writefile marker/Dockerfile\n",
        "# Use an official Python runtime as a parent image\n",
        "FROM python:3.10\n",
        "\n",
        "# Set the working directory in the container\n",
        "WORKDIR /usr/src/app\n",
        "\n",
        "# Clone the repository\n",
        "RUN git clone https://github.com/VikParuchuri/marker.git\n",
        "WORKDIR /usr/src/app/marker\n",
        "\n",
        "# Install system requirements\n",
        "RUN apt-get update && \\\n",
        "    apt-get install -y $(cat scripts/install/apt-requirements.txt)\n",
        "\n",
        "# Install Tesseract\n",
        "RUN apt-get update && \\\n",
        "    apt-get install -y lsb-release apt-transport-https wget && \\\n",
        "    wget -qO - https://notesalexp.org/debian/alexp_key.asc | apt-key add - && \\\n",
        "    echo \"deb https://notesalexp.org/tesseract-ocr5/$(lsb_release -cs)/ $(lsb_release -cs) main\" \\\n",
        "    | tee /etc/apt/sources.list.d/notesalexp.list > /dev/null && \\\n",
        "    apt-get update -oAcquire::AllowInsecureRepositories=true && \\\n",
        "    apt-get install -y notesalexp-keyring --allow-unauthenticated && \\\n",
        "    apt-get update && \\\n",
        "    apt-get install -y tesseract-ocr && \\\n",
        "    rm -rf /var/lib/apt/lists/*\n",
        "\n",
        "# Install ffmpeg and libsm6 libxext6\n",
        "RUN apt-get update && apt-get install ffmpeg libsm6 libxext6 -y\n",
        "\n",
        "# Install Ghostscript\n",
        "RUN wget https://github.com/ArtifexSoftware/ghostpdl-downloads/releases/download/gs10012/ghostscript-10.01.2.tar.gz && \\\n",
        "    tar -xvf ghostscript-10.01.2.tar.gz && \\\n",
        "    cd ghostscript-10.01.2 && \\\n",
        "    ./configure && \\\n",
        "    make install && \\\n",
        "    cd .. && \\\n",
        "    rm -rf ghostscript-10.01.2 ghostscript-10.01.2.tar.gz\n",
        "\n",
        "# Find the tessdata directory and create a local.env file with the TESSDATA_PREFIX\n",
        "RUN tessdata_path=$(find / -name tessdata -print -quit) && \\\n",
        "    echo \"TESSDATA_PREFIX=${tessdata_path}\" > local.env\n",
        "\n",
        "# Install Python dependencies\n",
        "RUN pip install poetry\n",
        "RUN poetry install\n",
        "\n",
        "# Update PyTorch (will be configured at runtime based on GPU/CPU selection)\n",
        "RUN pip install --upgrade pip\n",
        "# PyTorch installation will be handled by the run script\n",
        "RUN pip install --no-cache-dir --no-warn-script-location PyMuPDF pydantic ftfy python-dotenv \\ \n",
        "    pydantic-settings tabulate pyspellchecker ocrmypdf nltk thefuzz scikit-learn texify \\\n",
        "    python-magic bs4 tabled-pdf markdownify streamlit\n",
        "\n",
        "# Install API server dependencies\n",
        "RUN pip install -U uvicorn fastapi python-multipart\n",
        "\n",
        "# The command to run the application\n",
        "CMD [\"poetry\", \"run\", \"marker_server\", \"--port\", \"2080\"]\n"
      ]
    },
    {
      "cell_type": "markdown",
      "metadata": {},
      "source": [
        "## Select Processing Mode\n",
        "\n",
        "Choose between GPU (faster) or CPU (compatible with all systems) processing."
      ]
    },
    {
      "cell_type": "code",
      "execution_count": null,
      "metadata": {},
      "outputs": [],
      "source": [
        "# Stop and remove the Docker container\n",
        "!docker stop marker_container\n",
        "!docker rm marker_container\n",
        "\n",
        "# Stop the ngrok tunnel\n",
        "from pyngrok import ngrok\n",
        "ngrok.kill()\n",
        "\n",
        "print(\"Marker PDF GUI server has been stopped.\")"
      ]
    }
  ],
  "metadata": {
    "colab": {
      "gpuType": "T4",
      "provenance": []
    },
    "kernelspec": {
      "display_name": "Python 3",
      "language": "python",
      "name": "python3"
    },
    "language_info": {
      "codemirror_mode": {
        "name": "ipython",
        "version": 3
      },
      "file_extension": ".py",
      "mimetype": "text/x-python",
      "name": "python",
      "nbconvert_exporter": "python",
      "pygments_lexer": "ipython3",
      "version": "3.10.0"
    }
  },
  "nbformat": 4,
  "nbformat_minor": 0
}
  "cells": [
    {
      "cell_type": "code",
      "execution_count": null,
      "metadata": {},
      "outputs": [],
      "source": [
        "# Upload files to the data directory\n",
        "from google.colab import files\n",
        "\n",
        "print(\"Upload your PDF files to be processed by Marker PDF GUI\")\n",
        "uploaded = files.upload()\n",
        "\n",
        "# Save uploaded files to the data directory\n",
        "for filename, content in uploaded.items():\n",
        "    with open(f'marker/data/{filename}', 'wb') as f:\n",
        "        f.write(content)\n",
        "    print(f\"Saved {filename} to marker/data/ directory\")\n",
        "\n",
        "print(\"\\nYou can now process these files using the Marker PDF GUI interface at the URL above.\")"
      ]
    },
    {
      "cell_type": "markdown",
      "metadata": {},
      "source": [
        "## Stopping the Server\n",
        "\n",
        "When you're done using the Marker PDF GUI server, run the cell below to stop the container."
      ]
    },
    {
      "cell_type": "code",
      "execution_count": null,
      "metadata": {},
      "outputs": [],
      "source": [
        "# Stop and remove the Docker container\n",
        "!docker stop marker_container\n",
        "!docker rm marker_container\n",
        "\n",
        "# Stop the ngrok tunnel\n",
        "from pyngrok import ngrok\n",
        "ngrok.kill()\n",
        "\n",
        "print(\"Marker PDF GUI server has been stopped.\")"
      ]
    }
  ],
  "metadata": {
    "colab": {
      "gpuType": "T4",
      "provenance": []
    },
    "kernelspec": {
      "display_name": "Python 3",
      "language": "python",
      "name": "python3"
    },
    "language_info": {
      "codemirror_mode": {
        "name": "ipython",
        "version": 3
      },
      "file_extension": ".py",
      "mimetype": "text/x-python",
      "name": "python",
      "nbconvert_exporter": "python",
      "pygments_lexer": "ipython3",
      "version": "3.10.0"
    }
  },
  "nbformat": 4,
  "nbformat_minor": 0
}
      "outputs": [],
      "source": [
        "import ipywidgets as widgets\n",
        "from IPython.display import display\n",
        "\n",
        "# Create a dropdown for selecting processing mode\n",
        "mode_dropdown = widgets.Dropdown(\n",
        "    options=[('GPU (CUDA) - Faster processing with GPU support', 1), \n",
        "             ('CPU - Compatible with all systems', 2)],\n",
        "    value=1,\n",
        "    description='Mode:',\n",
        "    disabled=False,\n",
        ")\n",
        "\n",
        "display(mode_dropdown)\n",
        "print(\"Select processing mode from the dropdown above.\")"
      ]
    },
    {
      "cell_type": "markdown",
      "metadata": {},
      "source": [
        "## Check GPU Availability\n",
        "\n",
        "If you selected GPU mode, let's verify that a GPU is available in this Colab session."
      ]
    },
    {
      "cell_type": "code",
      "execution_count": null,
      "metadata": {},
      "outputs": [],
      "source": [
        "# Stop and remove the Docker container\n",
        "!docker stop marker_container\n",
        "!docker rm marker_container\n",
        "\n",
        "# Stop the ngrok tunnel\n",
        "from pyngrok import ngrok\n",
        "ngrok.kill()\n",
        "\n",
        "print(\"Marker PDF GUI server has been stopped.\")"
      ]
    }
  ],
  "metadata": {
    "colab": {
      "gpuType": "T4",
      "provenance": []
    },
    "kernelspec": {
      "display_name": "Python 3",
      "language": "python",
      "name": "python3"
    },
    "language_info": {
      "codemirror_mode": {
        "name": "ipython",
        "version": 3
      },
      "file_extension": ".py",
      "mimetype": "text/x-python",
      "name": "python",
      "nbconvert_exporter": "python",
      "pygments_lexer": "ipython3",
      "version": "3.10.0"
    }
  },
  "nbformat": 4,
  "nbformat_minor": 0
}
  "cells": [
    {
      "cell_type": "code",
      "execution_count": null,
      "metadata": {},
      "outputs": [],
      "source": [
        "# Upload files to the data directory\n",
        "from google.colab import files\n",
        "\n",
        "print(\"Upload your PDF files to be processed by Marker PDF GUI\")\n",
        "uploaded = files.upload()\n",
        "\n",
        "# Save uploaded files to the data directory\n",
        "for filename, content in uploaded.items():\n",
        "    with open(f'marker/data/{filename}', 'wb') as f:\n",
        "        f.write(content)\n",
        "    print(f\"Saved {filename} to marker/data/ directory\")\n",
        "\n",
        "print(\"\\nYou can now process these files using the Marker PDF GUI interface at the URL above.\")"
      ]
    },
    {
      "cell_type": "markdown",
      "metadata": {},
      "source": [
        "## Stopping the Server\n",
        "\n",
        "When you're done using the Marker PDF GUI server, run the cell below to stop the container."
      ]
    },
    {
      "cell_type": "code",
      "execution_count": null,
      "metadata": {},
      "outputs": [],
      "source": [
        "# Stop and remove the Docker container\n",
        "!docker stop marker_container\n",
        "!docker rm marker_container\n",
        "\n",
        "# Stop the ngrok tunnel\n",
        "from pyngrok import ngrok\n",
        "ngrok.kill()\n",
        "\n",
        "print(\"Marker PDF GUI server has been stopped.\")"
      ]
    }
  ],
  "metadata": {
    "colab": {
      "gpuType": "T4",
      "provenance": []
    },
    "kernelspec": {
      "display_name": "Python 3",
      "language": "python",
      "name": "python3"
    },
    "language_info": {
      "codemirror_mode": {
        "name": "ipython",
        "version": 3
      },
      "file_extension": ".py",
      "mimetype": "text/x-python",
      "name": "python",
      "nbconvert_exporter": "python",
      "pygments_lexer": "ipython3",
      "version": "3.10.0"
    }
  },
  "nbformat": 4,
  "nbformat_minor": 0
}
      "outputs": [],
      "source": [
        "# Check if GPU is available if GPU mode is selected\n",
        "if mode_dropdown.value == 1:  # GPU mode\n",
        "    !nvidia-smi\n",
        "    print(\"\\nIf you don't see GPU information above, go to Runtime > Change runtime type and select GPU as the hardware accelerator.\")"
      ]
    },
    {
      "cell_type": "markdown",
      "metadata": {},
      "source": [
        "## Set Up ngrok for Exposing the Server\n",
        "\n",
        "We'll use ngrok to create a public URL for accessing the Marker PDF GUI server."
      ]
    },
    {
      "cell_type": "code",
      "execution_count": null,
      "metadata": {},
      "outputs": [],
      "source": [
        "# Stop and remove the Docker container\n",
        "!docker stop marker_container\n",
        "!docker rm marker_container\n",
        "\n",
        "# Stop the ngrok tunnel\n",
        "from pyngrok import ngrok\n",
        "ngrok.kill()\n",
        "\n",
        "print(\"Marker PDF GUI server has been stopped.\")"
      ]
    }
  ],
  "metadata": {
    "colab": {
      "gpuType": "T4",
      "provenance": []
    },
    "kernelspec": {
      "display_name": "Python 3",
      "language": "python",
      "name": "python3"
    },
    "language_info": {
      "codemirror_mode": {
        "name": "ipython",
        "version": 3
      },
      "file_extension": ".py",
      "mimetype": "text/x-python",
      "name": "python",
      "nbconvert_exporter": "python",
      "pygments_lexer": "ipython3",
      "version": "3.10.0"
    }
  },
  "nbformat": 4,
  "nbformat_minor": 0
}
  "cells": [
    {
      "cell_type": "code",
      "execution_count": null,
      "metadata": {},
      "outputs": [],
      "source": [
        "# Upload files to the data directory\n",
        "from google.colab import files\n",
        "\n",
        "print(\"Upload your PDF files to be processed by Marker PDF GUI\")\n",
        "uploaded = files.upload()\n",
        "\n",
        "# Save uploaded files to the data directory\n",
        "for filename, content in uploaded.items():\n",
        "    with open(f'marker/data/{filename}', 'wb') as f:\n",
        "        f.write(content)\n",
        "    print(f\"Saved {filename} to marker/data/ directory\")\n",
        "\n",
        "print(\"\\nYou can now process these files using the Marker PDF GUI interface at the URL above.\")"
      ]
    },
    {
      "cell_type": "markdown",
      "metadata": {},
      "source": [
        "## Stopping the Server\n",
        "\n",
        "When you're done using the Marker PDF GUI server, run the cell below to stop the container."
      ]
    },
    {
      "cell_type": "code",
      "execution_count": null,
      "metadata": {},
      "outputs": [],
      "source": [
        "# Stop and remove the Docker container\n",
        "!docker stop marker_container\n",
        "!docker rm marker_container\n",
        "\n",
        "# Stop the ngrok tunnel\n",
        "from pyngrok import ngrok\n",
        "ngrok.kill()\n",
        "\n",
        "print(\"Marker PDF GUI server has been stopped.\")"
      ]
    }
  ],
  "metadata": {
    "colab": {
      "gpuType": "T4",
      "provenance": []
    },
    "kernelspec": {
      "display_name": "Python 3",
      "language": "python",
      "name": "python3"
    },
    "language_info": {
      "codemirror_mode": {
        "name": "ipython",
        "version": 3
      },
      "file_extension": ".py",
      "mimetype": "text/x-python",
      "name": "python",
      "nbconvert_exporter": "python",
      "pygments_lexer": "ipython3",
      "version": "3.10.0"
    }
  },
  "nbformat": 4,
  "nbformat_minor": 0
}
      "outputs": [],
      "source": [
        "# Set up ngrok authentication\n",
        "from google.colab import output\n",
        "import getpass\n",
        "\n",
        "print(\"To expose the server to the internet, you need an ngrok authtoken.\")\n",
        "print(\"If you don't have one, sign up for free at https://ngrok.com and get your authtoken from https://dashboard.ngrok.com/get-started/your-authtoken\")\n",
        "\n",
        "authtoken = getpass.getpass(\"Enter your ngrok authtoken: \")\n",
        "!ngrok authtoken $authtoken"
      ]
    },
    {
      "cell_type": "markdown",
      "metadata": {},
      "source": [
        "## Build and Run the Docker Container\n",
        "\n",
        "Now we'll build the Docker image and run the container with the selected processing mode."
      ]
    },
    {
      "cell_type": "code",
      "execution_count": null,
      "metadata": {},
      "outputs": [],
      "source": [
        "# Stop and remove the Docker container\n",
        "!docker stop marker_container\n",
        "!docker rm marker_container\n",
        "\n",
        "# Stop the ngrok tunnel\n",
        "from pyngrok import ngrok\n",
        "ngrok.kill()\n",
        "\n",
        "print(\"Marker PDF GUI server has been stopped.\")"
      ]
    }
  ],
  "metadata": {
    "colab": {
      "gpuType": "T4",
      "provenance": []
    },
    "kernelspec": {
      "display_name": "Python 3",
      "language": "python",
      "name": "python3"
    },
    "language_info": {
      "codemirror_mode": {
        "name": "ipython",
        "version": 3
      },
      "file_extension": ".py",
      "mimetype": "text/x-python",
      "name": "python",
      "nbconvert_exporter": "python",
      "pygments_lexer": "ipython3",
      "version": "3.10.0"
    }
  },
  "nbformat": 4,
  "nbformat_minor": 0
}
  "cells": [
    {
      "cell_type": "code",
      "execution_count": null,
      "metadata": {},
      "outputs": [],
      "source": [
        "# Upload files to the data directory\n",
        "from google.colab import files\n",
        "\n",
        "print(\"Upload your PDF files to be processed by Marker PDF GUI\")\n",
        "uploaded = files.upload()\n",
        "\n",
        "# Save uploaded files to the data directory\n",
        "for filename, content in uploaded.items():\n",
        "    with open(f'marker/data/{filename}', 'wb') as f:\n",
        "        f.write(content)\n",
        "    print(f\"Saved {filename} to marker/data/ directory\")\n",
        "\n",
        "print(\"\\nYou can now process these files using the Marker PDF GUI interface at the URL above.\")"
      ]
    },
    {
      "cell_type": "markdown",
      "metadata": {},
      "source": [
        "## Stopping the Server\n",
        "\n",
        "When you're done using the Marker PDF GUI server, run the cell below to stop the container."
      ]
    },
    {
      "cell_type": "code",
      "execution_count": null,
      "metadata": {},
      "outputs": [],
      "source": [
        "# Stop and remove the Docker container\n",
        "!docker stop marker_container\n",
        "!docker rm marker_container\n",
        "\n",
        "# Stop the ngrok tunnel\n",
        "from pyngrok import ngrok\n",
        "ngrok.kill()\n",
        "\n",
        "print(\"Marker PDF GUI server has been stopped.\")"
      ]
    }
  ],
  "metadata": {
    "colab": {
      "gpuType": "T4",
      "provenance": []
    },
    "kernelspec": {
      "display_name": "Python 3",
      "language": "python",
      "name": "python3"
    },
    "language_info": {
      "codemirror_mode": {
        "name": "ipython",
        "version": 3
      },
      "file_extension": ".py",
      "mimetype": "text/x-python",
      "name": "python",
      "nbconvert_exporter": "python",
      "pygments_lexer": "ipython3",
      "version": "3.10.0"
    }
  },
  "nbformat": 4,
  "nbformat_minor": 0
}
      "outputs": [],
      "source": [
        "%%bash\n",
        "# Install Docker if not already installed\n",
        "if ! command -v docker &> /dev/null; then\n",
        "    echo \"Installing Docker...\"\n",
        "    curl -fsSL https://get.docker.com -o get-docker.sh\n",
        "    sh get-docker.sh\n",
        "fi"
      ]
    },
    {
      "cell_type": "code",
      "execution_count": null,
      "metadata": {},
      "outputs": [],
      "source": [
        "# Stop and remove the Docker container\n",
        "!docker stop marker_container\n",
        "!docker rm marker_container\n",
        "\n",
        "# Stop the ngrok tunnel\n",
        "from pyngrok import ngrok\n",
        "ngrok.kill()\n",
        "\n",
        "print(\"Marker PDF GUI server has been stopped.\")"
      ]
    }
  ],
  "metadata": {
    "colab": {
      "gpuType": "T4",
      "provenance": []
    },
    "kernelspec": {
      "display_name": "Python 3",
      "language": "python",
      "name": "python3"
    },
    "language_info": {
      "codemirror_mode": {
        "name": "ipython",
        "version": 3
      },
      "file_extension": ".py",
      "mimetype": "text/x-python",
      "name": "python",
      "nbconvert_exporter": "python",
      "pygments_lexer": "ipython3",
      "version": "3.10.0"
    }
  },
  "nbformat": 4,
  "nbformat_minor": 0
}
  "cells": [
    {
      "cell_type": "code",
      "execution_count": null,
      "metadata": {},
      "outputs": [],
      "source": [
        "# Upload files to the data directory\n",
        "from google.colab import files\n",
        "\n",
        "print(\"Upload your PDF files to be processed by Marker PDF GUI\")\n",
        "uploaded = files.upload()\n",
        "\n",
        "# Save uploaded files to the data directory\n",
        "for filename, content in uploaded.items():\n",
        "    with open(f'marker/data/{filename}', 'wb') as f:\n",
        "        f.write(content)\n",
        "    print(f\"Saved {filename} to marker/data/ directory\")\n",
        "\n",
        "print(\"\\nYou can now process these files using the Marker PDF GUI interface at the URL above.\")"
      ]
    },
    {
      "cell_type": "markdown",
      "metadata": {},
      "source": [
        "## Stopping the Server\n",
        "\n",
        "When you're done using the Marker PDF GUI server, run the cell below to stop the container."
      ]
    },
    {
      "cell_type": "code",
      "execution_count": null,
      "metadata": {},
      "outputs": [],
      "source": [
        "# Stop and remove the Docker container\n",
        "!docker stop marker_container\n",
        "!docker rm marker_container\n",
        "\n",
        "# Stop the ngrok tunnel\n",
        "from pyngrok import ngrok\n",
        "ngrok.kill()\n",
        "\n",
        "print(\"Marker PDF GUI server has been stopped.\")"
      ]
    }
  ],
  "metadata": {
    "colab": {
      "gpuType": "T4",
      "provenance": []
    },
    "kernelspec": {
      "display_name": "Python 3",
      "language": "python",
      "name": "python3"
    },
    "language_info": {
      "codemirror_mode": {
        "name": "ipython",
        "version": 3
      },
      "file_extension": ".py",
      "mimetype": "text/x-python",
      "name": "python",
      "nbconvert_exporter": "python",
      "pygments_lexer": "ipython3",
      "version": "3.10.0"
    }
  },
  "nbformat": 4,
  "nbformat_minor": 0
}
      "outputs": [],
      "source": [
        "# Build the Docker image\n",
        "print(\"Building Docker image... This may take a while.\")\n",
        "!cd marker && docker build -t marker-pdf-gui ."
      ]
    },
    {
      "cell_type": "code",
      "execution_count": null,
      "metadata": {},
      "outputs": [],
      "source": [
        "# Stop and remove the Docker container\n",
        "!docker stop marker_container\n",
        "!docker rm marker_container\n",
        "\n",
        "# Stop the ngrok tunnel\n",
        "from pyngrok import ngrok\n",
        "ngrok.kill()\n",
        "\n",
        "print(\"Marker PDF GUI server has been stopped.\")"
      ]
    }
  ],
  "metadata": {
    "colab": {
      "gpuType": "T4",
      "provenance": []
    },
    "kernelspec": {
      "display_name": "Python 3",
      "language": "python",
      "name": "python3"
    },
    "language_info": {
      "codemirror_mode": {
        "name": "ipython",
        "version": 3
      },
      "file_extension": ".py",
      "mimetype": "text/x-python",
      "name": "python",
      "nbconvert_exporter": "python",
      "pygments_lexer": "ipython3",
      "version": "3.10.0"
    }
  },
  "nbformat": 4,
  "nbformat_minor": 0
}
  "cells": [
    {
      "cell_type": "code",
      "execution_count": null,
      "metadata": {},
      "outputs": [],
      "source": [
        "# Upload files to the data directory\n",
        "from google.colab import files\n",
        "\n",
        "print(\"Upload your PDF files to be processed by Marker PDF GUI\")\n",
        "uploaded = files.upload()\n",
        "\n",
        "# Save uploaded files to the data directory\n",
        "for filename, content in uploaded.items():\n",
        "    with open(f'marker/data/{filename}', 'wb') as f:\n",
        "        f.write(content)\n",
        "    print(f\"Saved {filename} to marker/data/ directory\")\n",
        "\n",
        "print(\"\\nYou can now process these files using the Marker PDF GUI interface at the URL above.\")"
      ]
    },
    {
      "cell_type": "markdown",
      "metadata": {},
      "source": [
        "## Stopping the Server\n",
        "\n",
        "When you're done using the Marker PDF GUI server, run the cell below to stop the container."
      ]
    },
    {
      "cell_type": "code",
      "execution_count": null,
      "metadata": {},
      "outputs": [],
      "source": [
        "# Stop and remove the Docker container\n",
        "!docker stop marker_container\n",
        "!docker rm marker_container\n",
        "\n",
        "# Stop the ngrok tunnel\n",
        "from pyngrok import ngrok\n",
        "ngrok.kill()\n",
        "\n",
        "print(\"Marker PDF GUI server has been stopped.\")"
      ]
    }
  ],
  "metadata": {
    "colab": {
      "gpuType": "T4",
      "provenance": []
    },
    "kernelspec": {
      "display_name": "Python 3",
      "language": "python",
      "name": "python3"
    },
    "language_info": {
      "codemirror_mode": {
        "name": "ipython",
        "version": 3
      },
      "file_extension": ".py",
      "mimetype": "text/x-python",
      "name": "python",
      "nbconvert_exporter": "python",
      "pygments_lexer": "ipython3",
      "version": "3.10.0"
    }
  },
  "nbformat": 4,
  "nbformat_minor": 0
}
      "outputs": [],
      "source": [
        "# Run the container based on the selected mode\n",
        "import os\n",
        "from pyngrok import ngrok\n",
        "\n",
        "# Start ngrok tunnel\n",
        "public_url = ngrok.connect(2080)\n",
        "print(f\"Ngrok tunnel established at: {public_url}\")\n",
        "\n",
        "# Run the container based on user's choice\n",
        "if mode_dropdown.value == 1:  # GPU mode\n",
        "    print(\"Starting Marker PDF GUI with GPU support...\")\n",
        "    !docker run -d --name marker_container \\\n",
        "        --gpus all \\\n",
        "        -e TORCH_INSTALL=\"pip install torch torchvision torchaudio\" \\\n",
        "        -p 2080:2080 \\\n",
        "        -v \"$(pwd)/marker/data:/usr/src/app/data\" \\\n",
        "        marker-pdf-gui\n",
        "else:  # CPU mode\n",
        "    print(\"Starting Marker PDF GUI with CPU support...\")\n",
        "    !docker run -d --name marker_container \\\n",
        "        -e TORCH_INSTALL=\"pip install torch torchvision torchaudio --index-url https://download.pytorch.org/whl/cpu\" \\\n",
        "        -p 2080:2080 \\\n",
        "        -v \"$(pwd)/marker/data:/usr/src/app/data\" \\\n",
        "        marker-pdf-gui\n",
        "\n",
        "print(\"\\nMarker PDF GUI server is running!\")\n",
        "print(f\"You can access the web interface at: {public_url}\")\n",
        "print(f\"You can access the API documentation at: {public_url}/docs\")\n",
        "\n",
        "# Keep the tunnel open\n",
        "print(\"\\nKeep this notebook running to maintain the connection to the server.\")"
      ]
    },
    {
      "cell_type": "markdown",
      "metadata": {},
      "source": [
        "## Upload Files for Processing\n",
        "\n",
        "You can upload PDF files to be processed by the Marker PDF GUI server."
      ]
    },
    {
      "cell_type": "code",
      "execution_count": null,
      "metadata": {},
      "outputs": [],
      "source": [
        "# Stop and remove the Docker container\n",
        "!docker stop marker_container\n",
        "!docker rm marker_container\n",
        "\n",
        "# Stop the ngrok tunnel\n",
        "from pyngrok import ngrok\n",
        "ngrok.kill()\n",
        "\n",
        "print(\"Marker PDF GUI server has been stopped.\")"
      ]
    }
  ],
  "metadata": {
    "colab": {
      "gpuType": "T4",
      "provenance": []
    },
    "kernelspec": {
      "display_name": "Python 3",
      "language": "python",
      "name": "python3"
    },
    "language_info": {
      "codemirror_mode": {
        "name": "ipython",
        "version": 3
      },
      "file_extension": ".py",
      "mimetype": "text/x-python",
      "name": "python",
      "nbconvert_exporter": "python",
      "pygments_lexer": "ipython3",
      "version": "3.10.0"
    }
  },
  "nbformat": 4,
  "nbformat_minor": 0
}
  "cells": [
    {
      "cell_type": "code",
      "execution_count": null,
      "metadata": {},
      "outputs": [],
      "source": [
        "# Upload files to the data directory\n",
        "from google.colab import files\n",
        "\n",
        "print(\"Upload your PDF files to be processed by Marker PDF GUI\")\n",
        "uploaded = files.upload()\n",
        "\n",
        "# Save uploaded files to the data directory\n",
        "for filename, content in uploaded.items():\n",
        "    with open(f'marker/data/{filename}', 'wb') as f:\n",
        "        f.write(content)\n",
        "    print(f\"Saved {filename} to marker/data/ directory\")\n",
        "\n",
        "print(\"\\nYou can now process these files using the Marker PDF GUI interface at the URL above.\")"
      ]
    },
    {
      "cell_type": "markdown",
      "metadata": {},
      "source": [
        "## Stopping the Server\n",
        "\n",
        "When you're done using the Marker PDF GUI server, run the cell below to stop the container."
      ]
    },
    {
      "cell_type": "code",
      "execution_count": null,
      "metadata": {},
      "outputs": [],
      "source": [
        "# Stop and remove the Docker container\n",
        "!docker stop marker_container\n",
        "!docker rm marker_container\n",
        "\n",
        "# Stop the ngrok tunnel\n",
        "from pyngrok import ngrok\n",
        "ngrok.kill()\n",
        "\n",
        "print(\"Marker PDF GUI server has been stopped.\")"
      ]
    }
  ],
  "metadata": {
    "colab": {
      "gpuType": "T4",
      "provenance": []
    },
    "kernelspec": {
      "display_name": "Python 3",
      "language": "python",
      "name": "python3"
    },
    "language_info": {
      "codemirror_mode": {
        "name": "ipython",
        "version": 3
      },
      "file_extension": ".py",
      "mimetype": "text/x-python",
      "name": "python",
      "nbconvert_exporter": "python",
      "pygments_lexer": "ipython3",
      "version": "3.10.0"
    }
  },
  "nbformat": 4,
  "nbformat_minor": 0
}